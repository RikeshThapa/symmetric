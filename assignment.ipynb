{
 "cells": [
  {
   "cell_type": "code",
   "execution_count": 8,
   "metadata": {},
   "outputs": [],
   "source": [
    "import pandas as pd\n",
    "import numpy as np\n",
    "import warnings\n",
    "import re\n",
    "\n",
    "warnings.simplefilter('ignore')\n",
    "\n",
    "#read MDALL dataset \n",
    "data_archive=pd.read_json('archive_device_identifier.json')\n",
    "data_active=pd.read_json('active_device_identifier.json')\n",
    "\n",
    "data_archive_sel=data_archive[['original_licence_no','device_id','device_identifier']]\n",
    "data_active_sel=data_active[['original_licence_no','device_id','device_identifier']]\n",
    "#combine above two data sets into one\n",
    "d_mdall=data_archive_sel.append(data_active_sel)\n",
    "\n",
    "#read guidid dataset\n",
    "data_device=pd.read_csv('AccessGUDID/device.txt',sep='|', error_bad_lines=False, index_col=False, dtype='unicode')\n",
    "# let us minimize the columns to analysis\n",
    "data_device_sel=data_device[['brandName','versionModelNumber','catalogNumber','companyName','deviceDescription']]\n"
   ]
  },
  {
   "cell_type": "code",
   "execution_count": 9,
   "metadata": {},
   "outputs": [],
   "source": [
    "#mdall dataset preparation\n",
    "\n",
    "data_active_license=pd.read_json('active_license.json')\n",
    "data_archive_license=pd.read_json('archive_license.json')\n",
    "\n",
    "#let us append active and arhcive\n",
    "\n",
    "d_license=data_active_license.append(data_archive_license)\n",
    "d_license_sel=d_license[['original_licence_no','licence_name','company_id']]\n",
    "#select interesting columns only\n",
    "d_license_sel=d_license[['original_licence_no','licence_name','company_id']]\n",
    "#same logic for company\n",
    "data_company=pd.read_json('company.json')\n",
    "d_company_sel=data_company[['company_id','company_name']]\n",
    "\n",
    "#now merge on key companyid\n",
    "\n",
    "license_all_with_company=pd.merge(d_license_sel,d_company_sel,on=\"company_id\")\n",
    "dmall_complete=pd.merge(d_mdall,license_all_with_company,on='original_licence_no')"
   ]
  },
  {
   "cell_type": "code",
   "execution_count": 10,
   "metadata": {},
   "outputs": [],
   "source": [
    "#clean the special charcters from both data sets on catlognumber\n",
    "#data quality\n",
    "\n",
    "\n",
    "dmall_complete['device_identifier']=dmall_complete['device_identifier'].map(lambda x: re.sub(r'^[\\t]+|[ \\t]+$', '', x))\n",
    "data_device_sel['catalogNumber']=data_device_sel['catalogNumber'].astype(str)\n",
    "data_device_sel['catalogNumber']=data_device_sel['catalogNumber'].map(lambda x: re.sub(r'^[\\t]+|[ \\t]+$', '', x))\n",
    "#data_device_sel['versionModelNumber']=data_device_sel['versionModelNumber'].astype(str)\n",
    "#data_device_sel['versionModelNumber']=data_device_sel['versionModelNumber'].map(lambda x: re.sub(r'\\W+', '', x))\n"
   ]
  },
  {
   "cell_type": "code",
   "execution_count": 11,
   "metadata": {},
   "outputs": [],
   "source": [
    "#change the column heading of company_name to d_company_name\n",
    "\n",
    "dmall_complete.rename(columns = {'company_name':'dmall_company_name'}, inplace = True) \n",
    "#create master list\n",
    "overall_df=pd.merge(dmall_complete,data_device_sel,left_on='device_identifier',right_on='catalogNumber')\n",
    "\n",
    "\n"
   ]
  },
  {
   "cell_type": "code",
   "execution_count": 12,
   "metadata": {},
   "outputs": [
    {
     "name": "stdout",
     "output_type": "stream",
     "text": [
      "647661\n"
     ]
    }
   ],
   "source": [
    "#Data quality\n",
    "#let us start rempoving duplicate\n",
    "\n",
    "duplicate_in_overall_df = overall_df.duplicated(subset=['catalogNumber'])\n",
    "\n",
    "## keeping the category row for which company name matches to break the duplicate \n",
    "## catalognumber\n",
    "## rest is kept the first one matched\n",
    "\n",
    "prev=False\n",
    "\n",
    "# add Temp column to keep tracof of what needs to be deleted\n",
    "#please note this takes a bit long to execute\n",
    "overall_df['Temp']=False\n",
    "count=len(overall_df.index)\n",
    "print(count)\n",
    "i=0\n",
    "while i< count:\n",
    "    \n",
    "    \n",
    "    prev=duplicate_in_overall_df.iloc[i]\n",
    "    if (prev==False):\n",
    "        i+=1\n",
    "    while prev:\n",
    "        if (overall_df.iloc[i]['companyName']==overall_df.iloc[i]['dmall_company_name']):\n",
    "                #print(i,overall_df.iloc[i]['companyName'],overall_df.iloc[i]['dmall_company_name'])\n",
    "                i+=1\n",
    "                prev=duplicate_in_overall_df.iloc[i]\n",
    "                while prev:\n",
    "                    overall_df.at[i,'Temp']=True\n",
    "                    i+=1\n",
    "                    prev=duplicate_in_overall_df.iloc[i]\n",
    "                    \n",
    "                \n",
    "        else:\n",
    "            overall_df.at[i,'Temp']=True\n",
    "            #print(overall_df.iloc[i]['Temp'])\n",
    "            \n",
    "        i+=1\n",
    "        if (i >=count):\n",
    "            break\n",
    "        prev=duplicate_in_overall_df.iloc[i]\n",
    "            \n",
    "        \n",
    "  \n",
    "    \n",
    "\n",
    "\n",
    "            \n",
    "        \n",
    "\n",
    "overall_df.drop(overall_df.loc[overall_df['Temp']==True].index,inplace=True)\n",
    "#second round duplicate teatment, this time we keep the last one\n",
    "\n",
    "overall_df.drop_duplicates(subset=\"catalogNumber\",keep=\"last\",inplace=True)\n",
    "\n",
    "\n",
    " "
   ]
  },
  {
   "cell_type": "code",
   "execution_count": 13,
   "metadata": {},
   "outputs": [
    {
     "name": "stdout",
     "output_type": "stream",
     "text": [
      "search for a catalog Number 1013470-180\n",
      "Catalog number    : 1013470-180\n",
      "MDALL Description  :  ARMADA 18 PTA CATHETER\n",
      "GUIDID Description :  Armada 18 PTA Catheter 6.0 mm x 180 mm x 150 c...\n"
     ]
    }
   ],
   "source": [
    "#Output 1\n",
    "#instruction run the program and enter catlog number\n",
    "#todo if not found\n",
    "#1013470-180 -test case\n",
    "\n",
    "name=input(\"search for a catalog Number \")\n",
    "print(\"Catalog number    :\", name)\n",
    "print(\"MDALL Description  :\",\n",
    "      overall_df[overall_df['device_identifier']==name].licence_name.to_string(index=False))\n",
    "print(\"GUIDID Description :\",\n",
    "      overall_df[overall_df['device_identifier']==name].deviceDescription.to_string(index=False))"
   ]
  },
  {
   "cell_type": "code",
   "execution_count": 14,
   "metadata": {},
   "outputs": [
    {
     "name": "stdout",
     "output_type": "stream",
     "text": [
      "guid total unque catalog  : 1309056\n",
      "mdall total unque catalog : 1886635\n",
      "---------------output2 as in assignment-------\n",
      "guidid-only catalog count: 984169\n",
      "mdall-only catalog count: 1561748\n",
      "catalogs in both datasets:  324887\n"
     ]
    }
   ],
   "source": [
    "#output 2\n",
    "\n",
    "\n",
    "data_device_sel\n",
    "\n",
    "catboth=np.count_nonzero(overall_df['device_identifier'].unique())\n",
    "total_dmall_catalog=np.count_nonzero(dmall_complete['device_identifier'].unique())\n",
    "total_guidid_catalog=np.count_nonzero(data_device_sel['catalogNumber'].unique())\n",
    "\n",
    "print(\"guid total unque catalog  :\",total_guidid_catalog)\n",
    "print(\"mdall total unque catalog :\",total_dmall_catalog)\n",
    "print(\"---------------output2 as in assignment-------\")\n",
    "print(\"guidid-only catalog count:\",total_guidid_catalog-catboth)\n",
    "print(\"mdall-only catalog count:\",total_dmall_catalog-catboth)\n",
    "print(\"catalogs in both datasets: \",catboth)\n",
    "\n",
    "\n",
    "#df_list=df.values.tolist()\n",
    "#df_list"
   ]
  },
  {
   "cell_type": "code",
   "execution_count": null,
   "metadata": {},
   "outputs": [],
   "source": []
  },
  {
   "cell_type": "code",
   "execution_count": null,
   "metadata": {},
   "outputs": [],
   "source": []
  }
 ],
 "metadata": {
  "kernelspec": {
   "display_name": "Python 3",
   "language": "python",
   "name": "python3"
  },
  "language_info": {
   "codemirror_mode": {
    "name": "ipython",
    "version": 3
   },
   "file_extension": ".py",
   "mimetype": "text/x-python",
   "name": "python",
   "nbconvert_exporter": "python",
   "pygments_lexer": "ipython3",
   "version": "3.7.4"
  }
 },
 "nbformat": 4,
 "nbformat_minor": 2
}
